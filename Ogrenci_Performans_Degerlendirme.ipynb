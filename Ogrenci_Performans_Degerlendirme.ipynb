{
 "cells": [
  {
   "cell_type": "code",
   "execution_count": 1492,
   "id": "dad4a9a4",
   "metadata": {},
   "outputs": [],
   "source": [
    "import seaborn as sns\n",
    "import numpy as np\n",
    "import pandas as pd\n",
    "import matplotlib.pyplot as plt\n",
    "\n",
    "from sklearn.model_selection import train_test_split,GridSearchCV,cross_val_score\n",
    "from sklearn.metrics import mean_squared_error,r2_score\n",
    "\n",
    "from sklearn import model_selection\n",
    "from sklearn.neighbors import KNeighborsRegressor\n",
    "\n",
    "from warnings import filterwarnings\n",
    "filterwarnings('ignore')\n"
   ]
  },
  {
   "cell_type": "code",
   "execution_count": 1493,
   "id": "7e8cae7e",
   "metadata": {},
   "outputs": [],
   "source": [
    "df=pd.read_excel(\"Ogrenci_Performans.xlsx\")"
   ]
  },
  {
   "cell_type": "code",
   "execution_count": 1494,
   "id": "8b5bee7a",
   "metadata": {},
   "outputs": [
    {
     "data": {
      "text/html": [
       "<div>\n",
       "<style scoped>\n",
       "    .dataframe tbody tr th:only-of-type {\n",
       "        vertical-align: middle;\n",
       "    }\n",
       "\n",
       "    .dataframe tbody tr th {\n",
       "        vertical-align: top;\n",
       "    }\n",
       "\n",
       "    .dataframe thead th {\n",
       "        text-align: right;\n",
       "    }\n",
       "</style>\n",
       "<table border=\"1\" class=\"dataframe\">\n",
       "  <thead>\n",
       "    <tr style=\"text-align: right;\">\n",
       "      <th></th>\n",
       "      <th>Cinsiyet</th>\n",
       "      <th>Ebeveyn Egitim Seviyesi</th>\n",
       "      <th>Okul Yemekhanesi</th>\n",
       "      <th>Ozel Ders</th>\n",
       "      <th>Matematik</th>\n",
       "      <th>Okuma</th>\n",
       "      <th>Yazma</th>\n",
       "    </tr>\n",
       "  </thead>\n",
       "  <tbody>\n",
       "    <tr>\n",
       "      <th>0</th>\n",
       "      <td>Kadin</td>\n",
       "      <td>Lisans Mezunu</td>\n",
       "      <td>Yok</td>\n",
       "      <td>Yok</td>\n",
       "      <td>72</td>\n",
       "      <td>72</td>\n",
       "      <td>74</td>\n",
       "    </tr>\n",
       "    <tr>\n",
       "      <th>1</th>\n",
       "      <td>Kadin</td>\n",
       "      <td>Onlisans Mezunu</td>\n",
       "      <td>Yok</td>\n",
       "      <td>Var</td>\n",
       "      <td>69</td>\n",
       "      <td>90</td>\n",
       "      <td>88</td>\n",
       "    </tr>\n",
       "    <tr>\n",
       "      <th>2</th>\n",
       "      <td>Kadin</td>\n",
       "      <td>Yuksek Lisans Mezunu</td>\n",
       "      <td>Yok</td>\n",
       "      <td>Yok</td>\n",
       "      <td>90</td>\n",
       "      <td>95</td>\n",
       "      <td>93</td>\n",
       "    </tr>\n",
       "    <tr>\n",
       "      <th>3</th>\n",
       "      <td>Erkek</td>\n",
       "      <td>Onlisans Mezunu</td>\n",
       "      <td>Var</td>\n",
       "      <td>Yok</td>\n",
       "      <td>47</td>\n",
       "      <td>57</td>\n",
       "      <td>44</td>\n",
       "    </tr>\n",
       "    <tr>\n",
       "      <th>4</th>\n",
       "      <td>Erkek</td>\n",
       "      <td>Onlisans Mezunu</td>\n",
       "      <td>Yok</td>\n",
       "      <td>Yok</td>\n",
       "      <td>76</td>\n",
       "      <td>78</td>\n",
       "      <td>75</td>\n",
       "    </tr>\n",
       "    <tr>\n",
       "      <th>...</th>\n",
       "      <td>...</td>\n",
       "      <td>...</td>\n",
       "      <td>...</td>\n",
       "      <td>...</td>\n",
       "      <td>...</td>\n",
       "      <td>...</td>\n",
       "      <td>...</td>\n",
       "    </tr>\n",
       "    <tr>\n",
       "      <th>995</th>\n",
       "      <td>Kadin</td>\n",
       "      <td>Yuksek Lisans Mezunu</td>\n",
       "      <td>Yok</td>\n",
       "      <td>Var</td>\n",
       "      <td>88</td>\n",
       "      <td>99</td>\n",
       "      <td>95</td>\n",
       "    </tr>\n",
       "    <tr>\n",
       "      <th>996</th>\n",
       "      <td>Erkek</td>\n",
       "      <td>Lise Mezunu</td>\n",
       "      <td>Var</td>\n",
       "      <td>Yok</td>\n",
       "      <td>62</td>\n",
       "      <td>55</td>\n",
       "      <td>55</td>\n",
       "    </tr>\n",
       "    <tr>\n",
       "      <th>997</th>\n",
       "      <td>Kadin</td>\n",
       "      <td>Lise Mezunu</td>\n",
       "      <td>Var</td>\n",
       "      <td>Var</td>\n",
       "      <td>59</td>\n",
       "      <td>71</td>\n",
       "      <td>65</td>\n",
       "    </tr>\n",
       "    <tr>\n",
       "      <th>998</th>\n",
       "      <td>Kadin</td>\n",
       "      <td>Onlisans Mezunu</td>\n",
       "      <td>Yok</td>\n",
       "      <td>Var</td>\n",
       "      <td>68</td>\n",
       "      <td>78</td>\n",
       "      <td>77</td>\n",
       "    </tr>\n",
       "    <tr>\n",
       "      <th>999</th>\n",
       "      <td>Kadin</td>\n",
       "      <td>Onlisans Mezunu</td>\n",
       "      <td>Var</td>\n",
       "      <td>Yok</td>\n",
       "      <td>77</td>\n",
       "      <td>86</td>\n",
       "      <td>86</td>\n",
       "    </tr>\n",
       "  </tbody>\n",
       "</table>\n",
       "<p>1000 rows × 7 columns</p>\n",
       "</div>"
      ],
      "text/plain": [
       "    Cinsiyet Ebeveyn Egitim Seviyesi Okul Yemekhanesi Ozel Ders  Matematik  \\\n",
       "0      Kadin           Lisans Mezunu              Yok       Yok         72   \n",
       "1      Kadin         Onlisans Mezunu              Yok       Var         69   \n",
       "2      Kadin    Yuksek Lisans Mezunu              Yok       Yok         90   \n",
       "3      Erkek         Onlisans Mezunu              Var       Yok         47   \n",
       "4      Erkek         Onlisans Mezunu              Yok       Yok         76   \n",
       "..       ...                     ...              ...       ...        ...   \n",
       "995    Kadin    Yuksek Lisans Mezunu              Yok       Var         88   \n",
       "996    Erkek             Lise Mezunu              Var       Yok         62   \n",
       "997    Kadin             Lise Mezunu              Var       Var         59   \n",
       "998    Kadin         Onlisans Mezunu              Yok       Var         68   \n",
       "999    Kadin         Onlisans Mezunu              Var       Yok         77   \n",
       "\n",
       "     Okuma  Yazma  \n",
       "0       72     74  \n",
       "1       90     88  \n",
       "2       95     93  \n",
       "3       57     44  \n",
       "4       78     75  \n",
       "..     ...    ...  \n",
       "995     99     95  \n",
       "996     55     55  \n",
       "997     71     65  \n",
       "998     78     77  \n",
       "999     86     86  \n",
       "\n",
       "[1000 rows x 7 columns]"
      ]
     },
     "execution_count": 1494,
     "metadata": {},
     "output_type": "execute_result"
    }
   ],
   "source": [
    "df\n"
   ]
  },
  {
   "cell_type": "code",
   "execution_count": 1495,
   "id": "5744df71",
   "metadata": {},
   "outputs": [],
   "source": [
    "#Verilerimiz String halde ve sutün başlıklarımız ayrık halde olduğu için sütun başlıklarını ve veri türlerimizde düzenleme \n",
    "#yapılması gerek"
   ]
  },
  {
   "cell_type": "code",
   "execution_count": 1496,
   "id": "36b3f4f4",
   "metadata": {},
   "outputs": [],
   "source": [
    "#Daha Kolay kullanabilmek için sütun isimlendirmede düzenlemeler yaptık."
   ]
  },
  {
   "cell_type": "code",
   "execution_count": 1497,
   "id": "3e31d19b",
   "metadata": {},
   "outputs": [],
   "source": [
    "df.rename(columns={\"Ebeveyn Egitim Seviyesi\":\"Ebeveyn_Egitim_Seviyesi\",\"Okul Yemekhanesi\":\"Okul_yemekhanesi\",\"Ozel Ders\":\"Ozel_Ders\"},inplace=True)"
   ]
  },
  {
   "cell_type": "code",
   "execution_count": 1498,
   "id": "d1d8eb84",
   "metadata": {},
   "outputs": [
    {
     "data": {
      "text/html": [
       "<div>\n",
       "<style scoped>\n",
       "    .dataframe tbody tr th:only-of-type {\n",
       "        vertical-align: middle;\n",
       "    }\n",
       "\n",
       "    .dataframe tbody tr th {\n",
       "        vertical-align: top;\n",
       "    }\n",
       "\n",
       "    .dataframe thead th {\n",
       "        text-align: right;\n",
       "    }\n",
       "</style>\n",
       "<table border=\"1\" class=\"dataframe\">\n",
       "  <thead>\n",
       "    <tr style=\"text-align: right;\">\n",
       "      <th></th>\n",
       "      <th>Cinsiyet</th>\n",
       "      <th>Ebeveyn_Egitim_Seviyesi</th>\n",
       "      <th>Okul_yemekhanesi</th>\n",
       "      <th>Ozel_Ders</th>\n",
       "      <th>Matematik</th>\n",
       "      <th>Okuma</th>\n",
       "      <th>Yazma</th>\n",
       "    </tr>\n",
       "  </thead>\n",
       "  <tbody>\n",
       "    <tr>\n",
       "      <th>0</th>\n",
       "      <td>Kadin</td>\n",
       "      <td>Lisans Mezunu</td>\n",
       "      <td>Yok</td>\n",
       "      <td>Yok</td>\n",
       "      <td>72</td>\n",
       "      <td>72</td>\n",
       "      <td>74</td>\n",
       "    </tr>\n",
       "    <tr>\n",
       "      <th>1</th>\n",
       "      <td>Kadin</td>\n",
       "      <td>Onlisans Mezunu</td>\n",
       "      <td>Yok</td>\n",
       "      <td>Var</td>\n",
       "      <td>69</td>\n",
       "      <td>90</td>\n",
       "      <td>88</td>\n",
       "    </tr>\n",
       "    <tr>\n",
       "      <th>2</th>\n",
       "      <td>Kadin</td>\n",
       "      <td>Yuksek Lisans Mezunu</td>\n",
       "      <td>Yok</td>\n",
       "      <td>Yok</td>\n",
       "      <td>90</td>\n",
       "      <td>95</td>\n",
       "      <td>93</td>\n",
       "    </tr>\n",
       "    <tr>\n",
       "      <th>3</th>\n",
       "      <td>Erkek</td>\n",
       "      <td>Onlisans Mezunu</td>\n",
       "      <td>Var</td>\n",
       "      <td>Yok</td>\n",
       "      <td>47</td>\n",
       "      <td>57</td>\n",
       "      <td>44</td>\n",
       "    </tr>\n",
       "    <tr>\n",
       "      <th>4</th>\n",
       "      <td>Erkek</td>\n",
       "      <td>Onlisans Mezunu</td>\n",
       "      <td>Yok</td>\n",
       "      <td>Yok</td>\n",
       "      <td>76</td>\n",
       "      <td>78</td>\n",
       "      <td>75</td>\n",
       "    </tr>\n",
       "    <tr>\n",
       "      <th>...</th>\n",
       "      <td>...</td>\n",
       "      <td>...</td>\n",
       "      <td>...</td>\n",
       "      <td>...</td>\n",
       "      <td>...</td>\n",
       "      <td>...</td>\n",
       "      <td>...</td>\n",
       "    </tr>\n",
       "    <tr>\n",
       "      <th>995</th>\n",
       "      <td>Kadin</td>\n",
       "      <td>Yuksek Lisans Mezunu</td>\n",
       "      <td>Yok</td>\n",
       "      <td>Var</td>\n",
       "      <td>88</td>\n",
       "      <td>99</td>\n",
       "      <td>95</td>\n",
       "    </tr>\n",
       "    <tr>\n",
       "      <th>996</th>\n",
       "      <td>Erkek</td>\n",
       "      <td>Lise Mezunu</td>\n",
       "      <td>Var</td>\n",
       "      <td>Yok</td>\n",
       "      <td>62</td>\n",
       "      <td>55</td>\n",
       "      <td>55</td>\n",
       "    </tr>\n",
       "    <tr>\n",
       "      <th>997</th>\n",
       "      <td>Kadin</td>\n",
       "      <td>Lise Mezunu</td>\n",
       "      <td>Var</td>\n",
       "      <td>Var</td>\n",
       "      <td>59</td>\n",
       "      <td>71</td>\n",
       "      <td>65</td>\n",
       "    </tr>\n",
       "    <tr>\n",
       "      <th>998</th>\n",
       "      <td>Kadin</td>\n",
       "      <td>Onlisans Mezunu</td>\n",
       "      <td>Yok</td>\n",
       "      <td>Var</td>\n",
       "      <td>68</td>\n",
       "      <td>78</td>\n",
       "      <td>77</td>\n",
       "    </tr>\n",
       "    <tr>\n",
       "      <th>999</th>\n",
       "      <td>Kadin</td>\n",
       "      <td>Onlisans Mezunu</td>\n",
       "      <td>Var</td>\n",
       "      <td>Yok</td>\n",
       "      <td>77</td>\n",
       "      <td>86</td>\n",
       "      <td>86</td>\n",
       "    </tr>\n",
       "  </tbody>\n",
       "</table>\n",
       "<p>1000 rows × 7 columns</p>\n",
       "</div>"
      ],
      "text/plain": [
       "    Cinsiyet Ebeveyn_Egitim_Seviyesi Okul_yemekhanesi Ozel_Ders  Matematik  \\\n",
       "0      Kadin           Lisans Mezunu              Yok       Yok         72   \n",
       "1      Kadin         Onlisans Mezunu              Yok       Var         69   \n",
       "2      Kadin    Yuksek Lisans Mezunu              Yok       Yok         90   \n",
       "3      Erkek         Onlisans Mezunu              Var       Yok         47   \n",
       "4      Erkek         Onlisans Mezunu              Yok       Yok         76   \n",
       "..       ...                     ...              ...       ...        ...   \n",
       "995    Kadin    Yuksek Lisans Mezunu              Yok       Var         88   \n",
       "996    Erkek             Lise Mezunu              Var       Yok         62   \n",
       "997    Kadin             Lise Mezunu              Var       Var         59   \n",
       "998    Kadin         Onlisans Mezunu              Yok       Var         68   \n",
       "999    Kadin         Onlisans Mezunu              Var       Yok         77   \n",
       "\n",
       "     Okuma  Yazma  \n",
       "0       72     74  \n",
       "1       90     88  \n",
       "2       95     93  \n",
       "3       57     44  \n",
       "4       78     75  \n",
       "..     ...    ...  \n",
       "995     99     95  \n",
       "996     55     55  \n",
       "997     71     65  \n",
       "998     78     77  \n",
       "999     86     86  \n",
       "\n",
       "[1000 rows x 7 columns]"
      ]
     },
     "execution_count": 1498,
     "metadata": {},
     "output_type": "execute_result"
    }
   ],
   "source": [
    "df"
   ]
  },
  {
   "cell_type": "code",
   "execution_count": 1499,
   "id": "c4e81eb2",
   "metadata": {},
   "outputs": [],
   "source": [
    "#Verilerimizi sayısal hale getiriyoruz.Makine öğreniminde kullanabilmek için"
   ]
  },
  {
   "cell_type": "code",
   "execution_count": 1500,
   "id": "7c395bf3",
   "metadata": {},
   "outputs": [],
   "source": [
    "df[\"Cinsiyet\"]=df.Cinsiyet.map({\"Kadin\":1,\"Erkek\":0})"
   ]
  },
  {
   "cell_type": "code",
   "execution_count": 1501,
   "id": "6aaef44a",
   "metadata": {},
   "outputs": [
    {
     "data": {
      "text/plain": [
       "0      1\n",
       "1      1\n",
       "2      1\n",
       "3      0\n",
       "4      0\n",
       "      ..\n",
       "995    1\n",
       "996    0\n",
       "997    1\n",
       "998    1\n",
       "999    1\n",
       "Name: Cinsiyet, Length: 1000, dtype: int64"
      ]
     },
     "execution_count": 1501,
     "metadata": {},
     "output_type": "execute_result"
    }
   ],
   "source": [
    "df[\"Cinsiyet\"]"
   ]
  },
  {
   "cell_type": "code",
   "execution_count": 1502,
   "id": "ccad2cfa",
   "metadata": {},
   "outputs": [
    {
     "data": {
      "text/plain": [
       "array(['Lisans Mezunu', 'Onlisans Mezunu', 'Yuksek Lisans Mezunu',\n",
       "       'Lise Mezunu'], dtype=object)"
      ]
     },
     "execution_count": 1502,
     "metadata": {},
     "output_type": "execute_result"
    }
   ],
   "source": [
    "df.Ebeveyn_Egitim_Seviyesi.unique()"
   ]
  },
  {
   "cell_type": "code",
   "execution_count": 1503,
   "id": "b9b6bfc1",
   "metadata": {},
   "outputs": [],
   "source": [
    "df[\"Ebeveyn_Egitim_Seviyesi\"]=df.Ebeveyn_Egitim_Seviyesi.map({\"Lise Mezunu\":1,\"Onlisans Mezunu\":2,\"Lisans Mezunu\":3,\"Yuksek Lisans Mezunu\":4})"
   ]
  },
  {
   "cell_type": "code",
   "execution_count": 1504,
   "id": "f5f902c3",
   "metadata": {},
   "outputs": [
    {
     "data": {
      "text/html": [
       "<div>\n",
       "<style scoped>\n",
       "    .dataframe tbody tr th:only-of-type {\n",
       "        vertical-align: middle;\n",
       "    }\n",
       "\n",
       "    .dataframe tbody tr th {\n",
       "        vertical-align: top;\n",
       "    }\n",
       "\n",
       "    .dataframe thead th {\n",
       "        text-align: right;\n",
       "    }\n",
       "</style>\n",
       "<table border=\"1\" class=\"dataframe\">\n",
       "  <thead>\n",
       "    <tr style=\"text-align: right;\">\n",
       "      <th></th>\n",
       "      <th>Cinsiyet</th>\n",
       "      <th>Ebeveyn_Egitim_Seviyesi</th>\n",
       "      <th>Okul_yemekhanesi</th>\n",
       "      <th>Ozel_Ders</th>\n",
       "      <th>Matematik</th>\n",
       "      <th>Okuma</th>\n",
       "      <th>Yazma</th>\n",
       "    </tr>\n",
       "  </thead>\n",
       "  <tbody>\n",
       "    <tr>\n",
       "      <th>0</th>\n",
       "      <td>1</td>\n",
       "      <td>3</td>\n",
       "      <td>Yok</td>\n",
       "      <td>Yok</td>\n",
       "      <td>72</td>\n",
       "      <td>72</td>\n",
       "      <td>74</td>\n",
       "    </tr>\n",
       "    <tr>\n",
       "      <th>1</th>\n",
       "      <td>1</td>\n",
       "      <td>2</td>\n",
       "      <td>Yok</td>\n",
       "      <td>Var</td>\n",
       "      <td>69</td>\n",
       "      <td>90</td>\n",
       "      <td>88</td>\n",
       "    </tr>\n",
       "    <tr>\n",
       "      <th>2</th>\n",
       "      <td>1</td>\n",
       "      <td>4</td>\n",
       "      <td>Yok</td>\n",
       "      <td>Yok</td>\n",
       "      <td>90</td>\n",
       "      <td>95</td>\n",
       "      <td>93</td>\n",
       "    </tr>\n",
       "    <tr>\n",
       "      <th>3</th>\n",
       "      <td>0</td>\n",
       "      <td>2</td>\n",
       "      <td>Var</td>\n",
       "      <td>Yok</td>\n",
       "      <td>47</td>\n",
       "      <td>57</td>\n",
       "      <td>44</td>\n",
       "    </tr>\n",
       "    <tr>\n",
       "      <th>4</th>\n",
       "      <td>0</td>\n",
       "      <td>2</td>\n",
       "      <td>Yok</td>\n",
       "      <td>Yok</td>\n",
       "      <td>76</td>\n",
       "      <td>78</td>\n",
       "      <td>75</td>\n",
       "    </tr>\n",
       "    <tr>\n",
       "      <th>...</th>\n",
       "      <td>...</td>\n",
       "      <td>...</td>\n",
       "      <td>...</td>\n",
       "      <td>...</td>\n",
       "      <td>...</td>\n",
       "      <td>...</td>\n",
       "      <td>...</td>\n",
       "    </tr>\n",
       "    <tr>\n",
       "      <th>995</th>\n",
       "      <td>1</td>\n",
       "      <td>4</td>\n",
       "      <td>Yok</td>\n",
       "      <td>Var</td>\n",
       "      <td>88</td>\n",
       "      <td>99</td>\n",
       "      <td>95</td>\n",
       "    </tr>\n",
       "    <tr>\n",
       "      <th>996</th>\n",
       "      <td>0</td>\n",
       "      <td>1</td>\n",
       "      <td>Var</td>\n",
       "      <td>Yok</td>\n",
       "      <td>62</td>\n",
       "      <td>55</td>\n",
       "      <td>55</td>\n",
       "    </tr>\n",
       "    <tr>\n",
       "      <th>997</th>\n",
       "      <td>1</td>\n",
       "      <td>1</td>\n",
       "      <td>Var</td>\n",
       "      <td>Var</td>\n",
       "      <td>59</td>\n",
       "      <td>71</td>\n",
       "      <td>65</td>\n",
       "    </tr>\n",
       "    <tr>\n",
       "      <th>998</th>\n",
       "      <td>1</td>\n",
       "      <td>2</td>\n",
       "      <td>Yok</td>\n",
       "      <td>Var</td>\n",
       "      <td>68</td>\n",
       "      <td>78</td>\n",
       "      <td>77</td>\n",
       "    </tr>\n",
       "    <tr>\n",
       "      <th>999</th>\n",
       "      <td>1</td>\n",
       "      <td>2</td>\n",
       "      <td>Var</td>\n",
       "      <td>Yok</td>\n",
       "      <td>77</td>\n",
       "      <td>86</td>\n",
       "      <td>86</td>\n",
       "    </tr>\n",
       "  </tbody>\n",
       "</table>\n",
       "<p>1000 rows × 7 columns</p>\n",
       "</div>"
      ],
      "text/plain": [
       "     Cinsiyet  Ebeveyn_Egitim_Seviyesi Okul_yemekhanesi Ozel_Ders  Matematik  \\\n",
       "0           1                        3              Yok       Yok         72   \n",
       "1           1                        2              Yok       Var         69   \n",
       "2           1                        4              Yok       Yok         90   \n",
       "3           0                        2              Var       Yok         47   \n",
       "4           0                        2              Yok       Yok         76   \n",
       "..        ...                      ...              ...       ...        ...   \n",
       "995         1                        4              Yok       Var         88   \n",
       "996         0                        1              Var       Yok         62   \n",
       "997         1                        1              Var       Var         59   \n",
       "998         1                        2              Yok       Var         68   \n",
       "999         1                        2              Var       Yok         77   \n",
       "\n",
       "     Okuma  Yazma  \n",
       "0       72     74  \n",
       "1       90     88  \n",
       "2       95     93  \n",
       "3       57     44  \n",
       "4       78     75  \n",
       "..     ...    ...  \n",
       "995     99     95  \n",
       "996     55     55  \n",
       "997     71     65  \n",
       "998     78     77  \n",
       "999     86     86  \n",
       "\n",
       "[1000 rows x 7 columns]"
      ]
     },
     "execution_count": 1504,
     "metadata": {},
     "output_type": "execute_result"
    }
   ],
   "source": [
    "df"
   ]
  },
  {
   "cell_type": "code",
   "execution_count": 1505,
   "id": "1381f483",
   "metadata": {},
   "outputs": [],
   "source": [
    "df[\"Okul_yemekhanesi\"]=df.Okul_yemekhanesi.map({\"Var\":1,\"Yok\":2})"
   ]
  },
  {
   "cell_type": "code",
   "execution_count": 1506,
   "id": "bf249e83",
   "metadata": {},
   "outputs": [
    {
     "data": {
      "text/html": [
       "<div>\n",
       "<style scoped>\n",
       "    .dataframe tbody tr th:only-of-type {\n",
       "        vertical-align: middle;\n",
       "    }\n",
       "\n",
       "    .dataframe tbody tr th {\n",
       "        vertical-align: top;\n",
       "    }\n",
       "\n",
       "    .dataframe thead th {\n",
       "        text-align: right;\n",
       "    }\n",
       "</style>\n",
       "<table border=\"1\" class=\"dataframe\">\n",
       "  <thead>\n",
       "    <tr style=\"text-align: right;\">\n",
       "      <th></th>\n",
       "      <th>Cinsiyet</th>\n",
       "      <th>Ebeveyn_Egitim_Seviyesi</th>\n",
       "      <th>Okul_yemekhanesi</th>\n",
       "      <th>Ozel_Ders</th>\n",
       "      <th>Matematik</th>\n",
       "      <th>Okuma</th>\n",
       "      <th>Yazma</th>\n",
       "    </tr>\n",
       "  </thead>\n",
       "  <tbody>\n",
       "    <tr>\n",
       "      <th>0</th>\n",
       "      <td>1</td>\n",
       "      <td>3</td>\n",
       "      <td>2</td>\n",
       "      <td>Yok</td>\n",
       "      <td>72</td>\n",
       "      <td>72</td>\n",
       "      <td>74</td>\n",
       "    </tr>\n",
       "    <tr>\n",
       "      <th>1</th>\n",
       "      <td>1</td>\n",
       "      <td>2</td>\n",
       "      <td>2</td>\n",
       "      <td>Var</td>\n",
       "      <td>69</td>\n",
       "      <td>90</td>\n",
       "      <td>88</td>\n",
       "    </tr>\n",
       "    <tr>\n",
       "      <th>2</th>\n",
       "      <td>1</td>\n",
       "      <td>4</td>\n",
       "      <td>2</td>\n",
       "      <td>Yok</td>\n",
       "      <td>90</td>\n",
       "      <td>95</td>\n",
       "      <td>93</td>\n",
       "    </tr>\n",
       "    <tr>\n",
       "      <th>3</th>\n",
       "      <td>0</td>\n",
       "      <td>2</td>\n",
       "      <td>1</td>\n",
       "      <td>Yok</td>\n",
       "      <td>47</td>\n",
       "      <td>57</td>\n",
       "      <td>44</td>\n",
       "    </tr>\n",
       "    <tr>\n",
       "      <th>4</th>\n",
       "      <td>0</td>\n",
       "      <td>2</td>\n",
       "      <td>2</td>\n",
       "      <td>Yok</td>\n",
       "      <td>76</td>\n",
       "      <td>78</td>\n",
       "      <td>75</td>\n",
       "    </tr>\n",
       "    <tr>\n",
       "      <th>...</th>\n",
       "      <td>...</td>\n",
       "      <td>...</td>\n",
       "      <td>...</td>\n",
       "      <td>...</td>\n",
       "      <td>...</td>\n",
       "      <td>...</td>\n",
       "      <td>...</td>\n",
       "    </tr>\n",
       "    <tr>\n",
       "      <th>995</th>\n",
       "      <td>1</td>\n",
       "      <td>4</td>\n",
       "      <td>2</td>\n",
       "      <td>Var</td>\n",
       "      <td>88</td>\n",
       "      <td>99</td>\n",
       "      <td>95</td>\n",
       "    </tr>\n",
       "    <tr>\n",
       "      <th>996</th>\n",
       "      <td>0</td>\n",
       "      <td>1</td>\n",
       "      <td>1</td>\n",
       "      <td>Yok</td>\n",
       "      <td>62</td>\n",
       "      <td>55</td>\n",
       "      <td>55</td>\n",
       "    </tr>\n",
       "    <tr>\n",
       "      <th>997</th>\n",
       "      <td>1</td>\n",
       "      <td>1</td>\n",
       "      <td>1</td>\n",
       "      <td>Var</td>\n",
       "      <td>59</td>\n",
       "      <td>71</td>\n",
       "      <td>65</td>\n",
       "    </tr>\n",
       "    <tr>\n",
       "      <th>998</th>\n",
       "      <td>1</td>\n",
       "      <td>2</td>\n",
       "      <td>2</td>\n",
       "      <td>Var</td>\n",
       "      <td>68</td>\n",
       "      <td>78</td>\n",
       "      <td>77</td>\n",
       "    </tr>\n",
       "    <tr>\n",
       "      <th>999</th>\n",
       "      <td>1</td>\n",
       "      <td>2</td>\n",
       "      <td>1</td>\n",
       "      <td>Yok</td>\n",
       "      <td>77</td>\n",
       "      <td>86</td>\n",
       "      <td>86</td>\n",
       "    </tr>\n",
       "  </tbody>\n",
       "</table>\n",
       "<p>1000 rows × 7 columns</p>\n",
       "</div>"
      ],
      "text/plain": [
       "     Cinsiyet  Ebeveyn_Egitim_Seviyesi  Okul_yemekhanesi Ozel_Ders  Matematik  \\\n",
       "0           1                        3                 2       Yok         72   \n",
       "1           1                        2                 2       Var         69   \n",
       "2           1                        4                 2       Yok         90   \n",
       "3           0                        2                 1       Yok         47   \n",
       "4           0                        2                 2       Yok         76   \n",
       "..        ...                      ...               ...       ...        ...   \n",
       "995         1                        4                 2       Var         88   \n",
       "996         0                        1                 1       Yok         62   \n",
       "997         1                        1                 1       Var         59   \n",
       "998         1                        2                 2       Var         68   \n",
       "999         1                        2                 1       Yok         77   \n",
       "\n",
       "     Okuma  Yazma  \n",
       "0       72     74  \n",
       "1       90     88  \n",
       "2       95     93  \n",
       "3       57     44  \n",
       "4       78     75  \n",
       "..     ...    ...  \n",
       "995     99     95  \n",
       "996     55     55  \n",
       "997     71     65  \n",
       "998     78     77  \n",
       "999     86     86  \n",
       "\n",
       "[1000 rows x 7 columns]"
      ]
     },
     "execution_count": 1506,
     "metadata": {},
     "output_type": "execute_result"
    }
   ],
   "source": [
    "df"
   ]
  },
  {
   "cell_type": "code",
   "execution_count": 1507,
   "id": "cea87a13",
   "metadata": {},
   "outputs": [],
   "source": [
    "df[\"Ozel_Ders\"]=df.Ozel_Ders.map({\"Var\":1,\"Yok\":0})"
   ]
  },
  {
   "cell_type": "code",
   "execution_count": 1508,
   "id": "21a97141",
   "metadata": {},
   "outputs": [
    {
     "data": {
      "text/html": [
       "<div>\n",
       "<style scoped>\n",
       "    .dataframe tbody tr th:only-of-type {\n",
       "        vertical-align: middle;\n",
       "    }\n",
       "\n",
       "    .dataframe tbody tr th {\n",
       "        vertical-align: top;\n",
       "    }\n",
       "\n",
       "    .dataframe thead th {\n",
       "        text-align: right;\n",
       "    }\n",
       "</style>\n",
       "<table border=\"1\" class=\"dataframe\">\n",
       "  <thead>\n",
       "    <tr style=\"text-align: right;\">\n",
       "      <th></th>\n",
       "      <th>Cinsiyet</th>\n",
       "      <th>Ebeveyn_Egitim_Seviyesi</th>\n",
       "      <th>Okul_yemekhanesi</th>\n",
       "      <th>Ozel_Ders</th>\n",
       "      <th>Matematik</th>\n",
       "      <th>Okuma</th>\n",
       "      <th>Yazma</th>\n",
       "    </tr>\n",
       "  </thead>\n",
       "  <tbody>\n",
       "    <tr>\n",
       "      <th>0</th>\n",
       "      <td>1</td>\n",
       "      <td>3</td>\n",
       "      <td>2</td>\n",
       "      <td>0</td>\n",
       "      <td>72</td>\n",
       "      <td>72</td>\n",
       "      <td>74</td>\n",
       "    </tr>\n",
       "    <tr>\n",
       "      <th>1</th>\n",
       "      <td>1</td>\n",
       "      <td>2</td>\n",
       "      <td>2</td>\n",
       "      <td>1</td>\n",
       "      <td>69</td>\n",
       "      <td>90</td>\n",
       "      <td>88</td>\n",
       "    </tr>\n",
       "    <tr>\n",
       "      <th>2</th>\n",
       "      <td>1</td>\n",
       "      <td>4</td>\n",
       "      <td>2</td>\n",
       "      <td>0</td>\n",
       "      <td>90</td>\n",
       "      <td>95</td>\n",
       "      <td>93</td>\n",
       "    </tr>\n",
       "    <tr>\n",
       "      <th>3</th>\n",
       "      <td>0</td>\n",
       "      <td>2</td>\n",
       "      <td>1</td>\n",
       "      <td>0</td>\n",
       "      <td>47</td>\n",
       "      <td>57</td>\n",
       "      <td>44</td>\n",
       "    </tr>\n",
       "    <tr>\n",
       "      <th>4</th>\n",
       "      <td>0</td>\n",
       "      <td>2</td>\n",
       "      <td>2</td>\n",
       "      <td>0</td>\n",
       "      <td>76</td>\n",
       "      <td>78</td>\n",
       "      <td>75</td>\n",
       "    </tr>\n",
       "    <tr>\n",
       "      <th>...</th>\n",
       "      <td>...</td>\n",
       "      <td>...</td>\n",
       "      <td>...</td>\n",
       "      <td>...</td>\n",
       "      <td>...</td>\n",
       "      <td>...</td>\n",
       "      <td>...</td>\n",
       "    </tr>\n",
       "    <tr>\n",
       "      <th>995</th>\n",
       "      <td>1</td>\n",
       "      <td>4</td>\n",
       "      <td>2</td>\n",
       "      <td>1</td>\n",
       "      <td>88</td>\n",
       "      <td>99</td>\n",
       "      <td>95</td>\n",
       "    </tr>\n",
       "    <tr>\n",
       "      <th>996</th>\n",
       "      <td>0</td>\n",
       "      <td>1</td>\n",
       "      <td>1</td>\n",
       "      <td>0</td>\n",
       "      <td>62</td>\n",
       "      <td>55</td>\n",
       "      <td>55</td>\n",
       "    </tr>\n",
       "    <tr>\n",
       "      <th>997</th>\n",
       "      <td>1</td>\n",
       "      <td>1</td>\n",
       "      <td>1</td>\n",
       "      <td>1</td>\n",
       "      <td>59</td>\n",
       "      <td>71</td>\n",
       "      <td>65</td>\n",
       "    </tr>\n",
       "    <tr>\n",
       "      <th>998</th>\n",
       "      <td>1</td>\n",
       "      <td>2</td>\n",
       "      <td>2</td>\n",
       "      <td>1</td>\n",
       "      <td>68</td>\n",
       "      <td>78</td>\n",
       "      <td>77</td>\n",
       "    </tr>\n",
       "    <tr>\n",
       "      <th>999</th>\n",
       "      <td>1</td>\n",
       "      <td>2</td>\n",
       "      <td>1</td>\n",
       "      <td>0</td>\n",
       "      <td>77</td>\n",
       "      <td>86</td>\n",
       "      <td>86</td>\n",
       "    </tr>\n",
       "  </tbody>\n",
       "</table>\n",
       "<p>1000 rows × 7 columns</p>\n",
       "</div>"
      ],
      "text/plain": [
       "     Cinsiyet  Ebeveyn_Egitim_Seviyesi  Okul_yemekhanesi  Ozel_Ders  \\\n",
       "0           1                        3                 2          0   \n",
       "1           1                        2                 2          1   \n",
       "2           1                        4                 2          0   \n",
       "3           0                        2                 1          0   \n",
       "4           0                        2                 2          0   \n",
       "..        ...                      ...               ...        ...   \n",
       "995         1                        4                 2          1   \n",
       "996         0                        1                 1          0   \n",
       "997         1                        1                 1          1   \n",
       "998         1                        2                 2          1   \n",
       "999         1                        2                 1          0   \n",
       "\n",
       "     Matematik  Okuma  Yazma  \n",
       "0           72     72     74  \n",
       "1           69     90     88  \n",
       "2           90     95     93  \n",
       "3           47     57     44  \n",
       "4           76     78     75  \n",
       "..         ...    ...    ...  \n",
       "995         88     99     95  \n",
       "996         62     55     55  \n",
       "997         59     71     65  \n",
       "998         68     78     77  \n",
       "999         77     86     86  \n",
       "\n",
       "[1000 rows x 7 columns]"
      ]
     },
     "execution_count": 1508,
     "metadata": {},
     "output_type": "execute_result"
    }
   ],
   "source": [
    "df"
   ]
  },
  {
   "cell_type": "code",
   "execution_count": 1509,
   "id": "730eea90",
   "metadata": {},
   "outputs": [],
   "source": [
    "#Burada bağımlı bağımsız değşkenlerimizi ayırmış olduk.\n",
    "#X bağımsız değişken\n",
    "#Y bağımlı değişken."
   ]
  },
  {
   "cell_type": "code",
   "execution_count": 1510,
   "id": "036631b1",
   "metadata": {},
   "outputs": [],
   "source": [
    "X=df.drop(['Matematik','Okuma','Yazma'],axis=1)# Axis 1 olduğu zaman sütunlarla çalıştığımız belirlenir.\n",
    "y=(df[['Matematik','Okuma','Yazma']])"
   ]
  },
  {
   "cell_type": "code",
   "execution_count": 1511,
   "id": "727a5b85",
   "metadata": {},
   "outputs": [
    {
     "data": {
      "text/html": [
       "<div>\n",
       "<style scoped>\n",
       "    .dataframe tbody tr th:only-of-type {\n",
       "        vertical-align: middle;\n",
       "    }\n",
       "\n",
       "    .dataframe tbody tr th {\n",
       "        vertical-align: top;\n",
       "    }\n",
       "\n",
       "    .dataframe thead th {\n",
       "        text-align: right;\n",
       "    }\n",
       "</style>\n",
       "<table border=\"1\" class=\"dataframe\">\n",
       "  <thead>\n",
       "    <tr style=\"text-align: right;\">\n",
       "      <th></th>\n",
       "      <th>Cinsiyet</th>\n",
       "      <th>Ebeveyn_Egitim_Seviyesi</th>\n",
       "      <th>Okul_yemekhanesi</th>\n",
       "      <th>Ozel_Ders</th>\n",
       "    </tr>\n",
       "  </thead>\n",
       "  <tbody>\n",
       "    <tr>\n",
       "      <th>0</th>\n",
       "      <td>1</td>\n",
       "      <td>3</td>\n",
       "      <td>2</td>\n",
       "      <td>0</td>\n",
       "    </tr>\n",
       "    <tr>\n",
       "      <th>1</th>\n",
       "      <td>1</td>\n",
       "      <td>2</td>\n",
       "      <td>2</td>\n",
       "      <td>1</td>\n",
       "    </tr>\n",
       "    <tr>\n",
       "      <th>2</th>\n",
       "      <td>1</td>\n",
       "      <td>4</td>\n",
       "      <td>2</td>\n",
       "      <td>0</td>\n",
       "    </tr>\n",
       "    <tr>\n",
       "      <th>3</th>\n",
       "      <td>0</td>\n",
       "      <td>2</td>\n",
       "      <td>1</td>\n",
       "      <td>0</td>\n",
       "    </tr>\n",
       "    <tr>\n",
       "      <th>4</th>\n",
       "      <td>0</td>\n",
       "      <td>2</td>\n",
       "      <td>2</td>\n",
       "      <td>0</td>\n",
       "    </tr>\n",
       "  </tbody>\n",
       "</table>\n",
       "</div>"
      ],
      "text/plain": [
       "   Cinsiyet  Ebeveyn_Egitim_Seviyesi  Okul_yemekhanesi  Ozel_Ders\n",
       "0         1                        3                 2          0\n",
       "1         1                        2                 2          1\n",
       "2         1                        4                 2          0\n",
       "3         0                        2                 1          0\n",
       "4         0                        2                 2          0"
      ]
     },
     "execution_count": 1511,
     "metadata": {},
     "output_type": "execute_result"
    }
   ],
   "source": [
    "X.head()"
   ]
  },
  {
   "cell_type": "code",
   "execution_count": 1512,
   "id": "0a26b31f",
   "metadata": {},
   "outputs": [
    {
     "data": {
      "text/html": [
       "<div>\n",
       "<style scoped>\n",
       "    .dataframe tbody tr th:only-of-type {\n",
       "        vertical-align: middle;\n",
       "    }\n",
       "\n",
       "    .dataframe tbody tr th {\n",
       "        vertical-align: top;\n",
       "    }\n",
       "\n",
       "    .dataframe thead th {\n",
       "        text-align: right;\n",
       "    }\n",
       "</style>\n",
       "<table border=\"1\" class=\"dataframe\">\n",
       "  <thead>\n",
       "    <tr style=\"text-align: right;\">\n",
       "      <th></th>\n",
       "      <th>Matematik</th>\n",
       "      <th>Okuma</th>\n",
       "      <th>Yazma</th>\n",
       "    </tr>\n",
       "  </thead>\n",
       "  <tbody>\n",
       "    <tr>\n",
       "      <th>0</th>\n",
       "      <td>72</td>\n",
       "      <td>72</td>\n",
       "      <td>74</td>\n",
       "    </tr>\n",
       "    <tr>\n",
       "      <th>1</th>\n",
       "      <td>69</td>\n",
       "      <td>90</td>\n",
       "      <td>88</td>\n",
       "    </tr>\n",
       "    <tr>\n",
       "      <th>2</th>\n",
       "      <td>90</td>\n",
       "      <td>95</td>\n",
       "      <td>93</td>\n",
       "    </tr>\n",
       "    <tr>\n",
       "      <th>3</th>\n",
       "      <td>47</td>\n",
       "      <td>57</td>\n",
       "      <td>44</td>\n",
       "    </tr>\n",
       "    <tr>\n",
       "      <th>4</th>\n",
       "      <td>76</td>\n",
       "      <td>78</td>\n",
       "      <td>75</td>\n",
       "    </tr>\n",
       "  </tbody>\n",
       "</table>\n",
       "</div>"
      ],
      "text/plain": [
       "   Matematik  Okuma  Yazma\n",
       "0         72     72     74\n",
       "1         69     90     88\n",
       "2         90     95     93\n",
       "3         47     57     44\n",
       "4         76     78     75"
      ]
     },
     "execution_count": 1512,
     "metadata": {},
     "output_type": "execute_result"
    }
   ],
   "source": [
    "y.head()"
   ]
  },
  {
   "cell_type": "code",
   "execution_count": 1513,
   "id": "cb000d2b",
   "metadata": {},
   "outputs": [],
   "source": [
    "knn_model=KNeighborsRegressor()#Modelimizi oluşturduk. Makine öğrenmesi olarak En yakın komşu modelini seçtik."
   ]
  },
  {
   "cell_type": "code",
   "execution_count": 1514,
   "id": "a0999408",
   "metadata": {},
   "outputs": [],
   "source": [
    "X_train,X_test,y_train,y_test=train_test_split(X,y,test_size=0.20,random_state=42)"
   ]
  },
  {
   "cell_type": "code",
   "execution_count": 1515,
   "id": "1507bc3a",
   "metadata": {},
   "outputs": [
    {
     "data": {
      "text/html": [
       "<style>#sk-container-id-53 {color: black;background-color: white;}#sk-container-id-53 pre{padding: 0;}#sk-container-id-53 div.sk-toggleable {background-color: white;}#sk-container-id-53 label.sk-toggleable__label {cursor: pointer;display: block;width: 100%;margin-bottom: 0;padding: 0.3em;box-sizing: border-box;text-align: center;}#sk-container-id-53 label.sk-toggleable__label-arrow:before {content: \"▸\";float: left;margin-right: 0.25em;color: #696969;}#sk-container-id-53 label.sk-toggleable__label-arrow:hover:before {color: black;}#sk-container-id-53 div.sk-estimator:hover label.sk-toggleable__label-arrow:before {color: black;}#sk-container-id-53 div.sk-toggleable__content {max-height: 0;max-width: 0;overflow: hidden;text-align: left;background-color: #f0f8ff;}#sk-container-id-53 div.sk-toggleable__content pre {margin: 0.2em;color: black;border-radius: 0.25em;background-color: #f0f8ff;}#sk-container-id-53 input.sk-toggleable__control:checked~div.sk-toggleable__content {max-height: 200px;max-width: 100%;overflow: auto;}#sk-container-id-53 input.sk-toggleable__control:checked~label.sk-toggleable__label-arrow:before {content: \"▾\";}#sk-container-id-53 div.sk-estimator input.sk-toggleable__control:checked~label.sk-toggleable__label {background-color: #d4ebff;}#sk-container-id-53 div.sk-label input.sk-toggleable__control:checked~label.sk-toggleable__label {background-color: #d4ebff;}#sk-container-id-53 input.sk-hidden--visually {border: 0;clip: rect(1px 1px 1px 1px);clip: rect(1px, 1px, 1px, 1px);height: 1px;margin: -1px;overflow: hidden;padding: 0;position: absolute;width: 1px;}#sk-container-id-53 div.sk-estimator {font-family: monospace;background-color: #f0f8ff;border: 1px dotted black;border-radius: 0.25em;box-sizing: border-box;margin-bottom: 0.5em;}#sk-container-id-53 div.sk-estimator:hover {background-color: #d4ebff;}#sk-container-id-53 div.sk-parallel-item::after {content: \"\";width: 100%;border-bottom: 1px solid gray;flex-grow: 1;}#sk-container-id-53 div.sk-label:hover label.sk-toggleable__label {background-color: #d4ebff;}#sk-container-id-53 div.sk-serial::before {content: \"\";position: absolute;border-left: 1px solid gray;box-sizing: border-box;top: 0;bottom: 0;left: 50%;z-index: 0;}#sk-container-id-53 div.sk-serial {display: flex;flex-direction: column;align-items: center;background-color: white;padding-right: 0.2em;padding-left: 0.2em;position: relative;}#sk-container-id-53 div.sk-item {position: relative;z-index: 1;}#sk-container-id-53 div.sk-parallel {display: flex;align-items: stretch;justify-content: center;background-color: white;position: relative;}#sk-container-id-53 div.sk-item::before, #sk-container-id-53 div.sk-parallel-item::before {content: \"\";position: absolute;border-left: 1px solid gray;box-sizing: border-box;top: 0;bottom: 0;left: 50%;z-index: -1;}#sk-container-id-53 div.sk-parallel-item {display: flex;flex-direction: column;z-index: 1;position: relative;background-color: white;}#sk-container-id-53 div.sk-parallel-item:first-child::after {align-self: flex-end;width: 50%;}#sk-container-id-53 div.sk-parallel-item:last-child::after {align-self: flex-start;width: 50%;}#sk-container-id-53 div.sk-parallel-item:only-child::after {width: 0;}#sk-container-id-53 div.sk-dashed-wrapped {border: 1px dashed gray;margin: 0 0.4em 0.5em 0.4em;box-sizing: border-box;padding-bottom: 0.4em;background-color: white;}#sk-container-id-53 div.sk-label label {font-family: monospace;font-weight: bold;display: inline-block;line-height: 1.2em;}#sk-container-id-53 div.sk-label-container {text-align: center;}#sk-container-id-53 div.sk-container {/* jupyter's `normalize.less` sets `[hidden] { display: none; }` but bootstrap.min.css set `[hidden] { display: none !important; }` so we also need the `!important` here to be able to override the default hidden behavior on the sphinx rendered scikit-learn.org. See: https://github.com/scikit-learn/scikit-learn/issues/21755 */display: inline-block !important;position: relative;}#sk-container-id-53 div.sk-text-repr-fallback {display: none;}</style><div id=\"sk-container-id-53\" class=\"sk-top-container\"><div class=\"sk-text-repr-fallback\"><pre>KNeighborsRegressor(n_neighbors=29)</pre><b>In a Jupyter environment, please rerun this cell to show the HTML representation or trust the notebook. <br />On GitHub, the HTML representation is unable to render, please try loading this page with nbviewer.org.</b></div><div class=\"sk-container\" hidden><div class=\"sk-item\"><div class=\"sk-estimator sk-toggleable\"><input class=\"sk-toggleable__control sk-hidden--visually\" id=\"sk-estimator-id-69\" type=\"checkbox\" checked><label for=\"sk-estimator-id-69\" class=\"sk-toggleable__label sk-toggleable__label-arrow\">KNeighborsRegressor</label><div class=\"sk-toggleable__content\"><pre>KNeighborsRegressor(n_neighbors=29)</pre></div></div></div></div></div>"
      ],
      "text/plain": [
       "KNeighborsRegressor(n_neighbors=29)"
      ]
     },
     "execution_count": 1515,
     "metadata": {},
     "output_type": "execute_result"
    }
   ],
   "source": [
    "knn_modeleniyi.fit(X_train,y_train)#Modelimize eğitim verilerimizi gönderip eğittik"
   ]
  },
  {
   "cell_type": "code",
   "execution_count": 1516,
   "id": "4723d3d6",
   "metadata": {},
   "outputs": [],
   "source": [
    "#Komşu sayımıza göre modelimizin doğruluk tablosu"
   ]
  },
  {
   "cell_type": "code",
   "execution_count": 1517,
   "id": "fb91ab8d",
   "metadata": {},
   "outputs": [
    {
     "data": {
      "text/plain": [
       "([<matplotlib.axis.XTick at 0x2a19b456ec0>,\n",
       "  <matplotlib.axis.XTick at 0x2a19b456f20>,\n",
       "  <matplotlib.axis.XTick at 0x2a19b82b580>,\n",
       "  <matplotlib.axis.XTick at 0x2a19966b220>,\n",
       "  <matplotlib.axis.XTick at 0x2a19966b970>,\n",
       "  <matplotlib.axis.XTick at 0x2a19b480100>,\n",
       "  <matplotlib.axis.XTick at 0x2a19966ba60>],\n",
       " [Text(0, 0, ''),\n",
       "  Text(0, 0, ''),\n",
       "  Text(0, 0, ''),\n",
       "  Text(0, 0, ''),\n",
       "  Text(0, 0, ''),\n",
       "  Text(0, 0, ''),\n",
       "  Text(0, 0, '')])"
      ]
     },
     "execution_count": 1517,
     "metadata": {},
     "output_type": "execute_result"
    },
    {
     "data": {
      "image/png": "[encoded data removed]",
      "text/plain": [
       "<Figure size 432x288 with 1 Axes>"
      ]
     },
     "metadata": {
      "needs_background": "light"
     },
     "output_type": "display_data"
    }
   ],
   "source": [
    "k_range=range(1,30)\n",
    "scores=[]\n",
    "for k in k_range:\n",
    "    knn1=KNeighborsRegressor(n_neighbors=k)\n",
    "    knn1.fit(X_train,y_train)\n",
    "    scores.append(knn1.score(X_test,y_test))\n",
    "    \n",
    "    \n",
    "plt.figure()\n",
    "plt.xlabel(\"Komşu Sayısı\")\n",
    "plt.ylabel(\"Doğruluk\")\n",
    "plt.scatter(k_range,scores)\n",
    "plt.xticks([0,5,10,15,20,25,30])"
   ]
  },
  {
   "cell_type": "code",
   "execution_count": 1518,
   "id": "76041054",
   "metadata": {},
   "outputs": [],
   "source": [
    "knn_modeleniyi=KNeighborsRegressor(n_neighbors=29)#En iyi komşu değerini 29 bulduk."
   ]
  },
  {
   "cell_type": "code",
   "execution_count": 1519,
   "id": "facbbed6",
   "metadata": {},
   "outputs": [],
   "source": [
    "X_train,X_test,y_train,y_test=train_test_split(X,y,test_size=0.20,random_state=42)"
   ]
  },
  {
   "cell_type": "code",
   "execution_count": 1520,
   "id": "9e5f5bba",
   "metadata": {},
   "outputs": [
    {
     "data": {
      "text/html": [
       "<style>#sk-container-id-54 {color: black;background-color: white;}#sk-container-id-54 pre{padding: 0;}#sk-container-id-54 div.sk-toggleable {background-color: white;}#sk-container-id-54 label.sk-toggleable__label {cursor: pointer;display: block;width: 100%;margin-bottom: 0;padding: 0.3em;box-sizing: border-box;text-align: center;}#sk-container-id-54 label.sk-toggleable__label-arrow:before {content: \"▸\";float: left;margin-right: 0.25em;color: #696969;}#sk-container-id-54 label.sk-toggleable__label-arrow:hover:before {color: black;}#sk-container-id-54 div.sk-estimator:hover label.sk-toggleable__label-arrow:before {color: black;}#sk-container-id-54 div.sk-toggleable__content {max-height: 0;max-width: 0;overflow: hidden;text-align: left;background-color: #f0f8ff;}#sk-container-id-54 div.sk-toggleable__content pre {margin: 0.2em;color: black;border-radius: 0.25em;background-color: #f0f8ff;}#sk-container-id-54 input.sk-toggleable__control:checked~div.sk-toggleable__content {max-height: 200px;max-width: 100%;overflow: auto;}#sk-container-id-54 input.sk-toggleable__control:checked~label.sk-toggleable__label-arrow:before {content: \"▾\";}#sk-container-id-54 div.sk-estimator input.sk-toggleable__control:checked~label.sk-toggleable__label {background-color: #d4ebff;}#sk-container-id-54 div.sk-label input.sk-toggleable__control:checked~label.sk-toggleable__label {background-color: #d4ebff;}#sk-container-id-54 input.sk-hidden--visually {border: 0;clip: rect(1px 1px 1px 1px);clip: rect(1px, 1px, 1px, 1px);height: 1px;margin: -1px;overflow: hidden;padding: 0;position: absolute;width: 1px;}#sk-container-id-54 div.sk-estimator {font-family: monospace;background-color: #f0f8ff;border: 1px dotted black;border-radius: 0.25em;box-sizing: border-box;margin-bottom: 0.5em;}#sk-container-id-54 div.sk-estimator:hover {background-color: #d4ebff;}#sk-container-id-54 div.sk-parallel-item::after {content: \"\";width: 100%;border-bottom: 1px solid gray;flex-grow: 1;}#sk-container-id-54 div.sk-label:hover label.sk-toggleable__label {background-color: #d4ebff;}#sk-container-id-54 div.sk-serial::before {content: \"\";position: absolute;border-left: 1px solid gray;box-sizing: border-box;top: 0;bottom: 0;left: 50%;z-index: 0;}#sk-container-id-54 div.sk-serial {display: flex;flex-direction: column;align-items: center;background-color: white;padding-right: 0.2em;padding-left: 0.2em;position: relative;}#sk-container-id-54 div.sk-item {position: relative;z-index: 1;}#sk-container-id-54 div.sk-parallel {display: flex;align-items: stretch;justify-content: center;background-color: white;position: relative;}#sk-container-id-54 div.sk-item::before, #sk-container-id-54 div.sk-parallel-item::before {content: \"\";position: absolute;border-left: 1px solid gray;box-sizing: border-box;top: 0;bottom: 0;left: 50%;z-index: -1;}#sk-container-id-54 div.sk-parallel-item {display: flex;flex-direction: column;z-index: 1;position: relative;background-color: white;}#sk-container-id-54 div.sk-parallel-item:first-child::after {align-self: flex-end;width: 50%;}#sk-container-id-54 div.sk-parallel-item:last-child::after {align-self: flex-start;width: 50%;}#sk-container-id-54 div.sk-parallel-item:only-child::after {width: 0;}#sk-container-id-54 div.sk-dashed-wrapped {border: 1px dashed gray;margin: 0 0.4em 0.5em 0.4em;box-sizing: border-box;padding-bottom: 0.4em;background-color: white;}#sk-container-id-54 div.sk-label label {font-family: monospace;font-weight: bold;display: inline-block;line-height: 1.2em;}#sk-container-id-54 div.sk-label-container {text-align: center;}#sk-container-id-54 div.sk-container {/* jupyter's `normalize.less` sets `[hidden] { display: none; }` but bootstrap.min.css set `[hidden] { display: none !important; }` so we also need the `!important` here to be able to override the default hidden behavior on the sphinx rendered scikit-learn.org. See: https://github.com/scikit-learn/scikit-learn/issues/21755 */display: inline-block !important;position: relative;}#sk-container-id-54 div.sk-text-repr-fallback {display: none;}</style><div id=\"sk-container-id-54\" class=\"sk-top-container\"><div class=\"sk-text-repr-fallback\"><pre>KNeighborsRegressor(n_neighbors=29)</pre><b>In a Jupyter environment, please rerun this cell to show the HTML representation or trust the notebook. <br />On GitHub, the HTML representation is unable to render, please try loading this page with nbviewer.org.</b></div><div class=\"sk-container\" hidden><div class=\"sk-item\"><div class=\"sk-estimator sk-toggleable\"><input class=\"sk-toggleable__control sk-hidden--visually\" id=\"sk-estimator-id-70\" type=\"checkbox\" checked><label for=\"sk-estimator-id-70\" class=\"sk-toggleable__label sk-toggleable__label-arrow\">KNeighborsRegressor</label><div class=\"sk-toggleable__content\"><pre>KNeighborsRegressor(n_neighbors=29)</pre></div></div></div></div></div>"
      ],
      "text/plain": [
       "KNeighborsRegressor(n_neighbors=29)"
      ]
     },
     "execution_count": 1520,
     "metadata": {},
     "output_type": "execute_result"
    }
   ],
   "source": [
    "knn_modeleniyi.fit(X_train,y_train)#Modelimize eğitim verilerimizi gönderip eğittik"
   ]
  },
  {
   "cell_type": "code",
   "execution_count": 1521,
   "id": "bf09d41d",
   "metadata": {},
   "outputs": [],
   "source": [
    "model=knn_modeleniyi.fit(X_train,y_train)"
   ]
  },
  {
   "cell_type": "code",
   "execution_count": 1522,
   "id": "44663b93",
   "metadata": {},
   "outputs": [
    {
     "data": {
      "text/html": [
       "<style>#sk-container-id-55 {color: black;background-color: white;}#sk-container-id-55 pre{padding: 0;}#sk-container-id-55 div.sk-toggleable {background-color: white;}#sk-container-id-55 label.sk-toggleable__label {cursor: pointer;display: block;width: 100%;margin-bottom: 0;padding: 0.3em;box-sizing: border-box;text-align: center;}#sk-container-id-55 label.sk-toggleable__label-arrow:before {content: \"▸\";float: left;margin-right: 0.25em;color: #696969;}#sk-container-id-55 label.sk-toggleable__label-arrow:hover:before {color: black;}#sk-container-id-55 div.sk-estimator:hover label.sk-toggleable__label-arrow:before {color: black;}#sk-container-id-55 div.sk-toggleable__content {max-height: 0;max-width: 0;overflow: hidden;text-align: left;background-color: #f0f8ff;}#sk-container-id-55 div.sk-toggleable__content pre {margin: 0.2em;color: black;border-radius: 0.25em;background-color: #f0f8ff;}#sk-container-id-55 input.sk-toggleable__control:checked~div.sk-toggleable__content {max-height: 200px;max-width: 100%;overflow: auto;}#sk-container-id-55 input.sk-toggleable__control:checked~label.sk-toggleable__label-arrow:before {content: \"▾\";}#sk-container-id-55 div.sk-estimator input.sk-toggleable__control:checked~label.sk-toggleable__label {background-color: #d4ebff;}#sk-container-id-55 div.sk-label input.sk-toggleable__control:checked~label.sk-toggleable__label {background-color: #d4ebff;}#sk-container-id-55 input.sk-hidden--visually {border: 0;clip: rect(1px 1px 1px 1px);clip: rect(1px, 1px, 1px, 1px);height: 1px;margin: -1px;overflow: hidden;padding: 0;position: absolute;width: 1px;}#sk-container-id-55 div.sk-estimator {font-family: monospace;background-color: #f0f8ff;border: 1px dotted black;border-radius: 0.25em;box-sizing: border-box;margin-bottom: 0.5em;}#sk-container-id-55 div.sk-estimator:hover {background-color: #d4ebff;}#sk-container-id-55 div.sk-parallel-item::after {content: \"\";width: 100%;border-bottom: 1px solid gray;flex-grow: 1;}#sk-container-id-55 div.sk-label:hover label.sk-toggleable__label {background-color: #d4ebff;}#sk-container-id-55 div.sk-serial::before {content: \"\";position: absolute;border-left: 1px solid gray;box-sizing: border-box;top: 0;bottom: 0;left: 50%;z-index: 0;}#sk-container-id-55 div.sk-serial {display: flex;flex-direction: column;align-items: center;background-color: white;padding-right: 0.2em;padding-left: 0.2em;position: relative;}#sk-container-id-55 div.sk-item {position: relative;z-index: 1;}#sk-container-id-55 div.sk-parallel {display: flex;align-items: stretch;justify-content: center;background-color: white;position: relative;}#sk-container-id-55 div.sk-item::before, #sk-container-id-55 div.sk-parallel-item::before {content: \"\";position: absolute;border-left: 1px solid gray;box-sizing: border-box;top: 0;bottom: 0;left: 50%;z-index: -1;}#sk-container-id-55 div.sk-parallel-item {display: flex;flex-direction: column;z-index: 1;position: relative;background-color: white;}#sk-container-id-55 div.sk-parallel-item:first-child::after {align-self: flex-end;width: 50%;}#sk-container-id-55 div.sk-parallel-item:last-child::after {align-self: flex-start;width: 50%;}#sk-container-id-55 div.sk-parallel-item:only-child::after {width: 0;}#sk-container-id-55 div.sk-dashed-wrapped {border: 1px dashed gray;margin: 0 0.4em 0.5em 0.4em;box-sizing: border-box;padding-bottom: 0.4em;background-color: white;}#sk-container-id-55 div.sk-label label {font-family: monospace;font-weight: bold;display: inline-block;line-height: 1.2em;}#sk-container-id-55 div.sk-label-container {text-align: center;}#sk-container-id-55 div.sk-container {/* jupyter's `normalize.less` sets `[hidden] { display: none; }` but bootstrap.min.css set `[hidden] { display: none !important; }` so we also need the `!important` here to be able to override the default hidden behavior on the sphinx rendered scikit-learn.org. See: https://github.com/scikit-learn/scikit-learn/issues/21755 */display: inline-block !important;position: relative;}#sk-container-id-55 div.sk-text-repr-fallback {display: none;}</style><div id=\"sk-container-id-55\" class=\"sk-top-container\"><div class=\"sk-text-repr-fallback\"><pre>KNeighborsRegressor(n_neighbors=29)</pre><b>In a Jupyter environment, please rerun this cell to show the HTML representation or trust the notebook. <br />On GitHub, the HTML representation is unable to render, please try loading this page with nbviewer.org.</b></div><div class=\"sk-container\" hidden><div class=\"sk-item\"><div class=\"sk-estimator sk-toggleable\"><input class=\"sk-toggleable__control sk-hidden--visually\" id=\"sk-estimator-id-71\" type=\"checkbox\" checked><label for=\"sk-estimator-id-71\" class=\"sk-toggleable__label sk-toggleable__label-arrow\">KNeighborsRegressor</label><div class=\"sk-toggleable__content\"><pre>KNeighborsRegressor(n_neighbors=29)</pre></div></div></div></div></div>"
      ],
      "text/plain": [
       "KNeighborsRegressor(n_neighbors=29)"
      ]
     },
     "execution_count": 1522,
     "metadata": {},
     "output_type": "execute_result"
    }
   ],
   "source": [
    "model"
   ]
  },
  {
   "cell_type": "code",
   "execution_count": 1523,
   "id": "b1d3d7d5",
   "metadata": {},
   "outputs": [],
   "source": [
    "#KNN Modelimizin başarı oranı"
   ]
  },
  {
   "cell_type": "code",
   "execution_count": 1524,
   "id": "f18ecb06",
   "metadata": {},
   "outputs": [
    {
     "name": "stdout",
     "output_type": "stream",
     "text": [
      "K-NN için eğitim seti performansı:0.26\n",
      "K-NN için test seti performansı:0.17\n"
     ]
    }
   ],
   "source": [
    "print('K-NN için eğitim seti performansı:{:.2f}'.format(knn_modeleniyi.score(X_train,y_train)))\n",
    "print('K-NN için test seti performansı:{:.2f}'.format(knn_modeleniyi.score(X_test,y_test)))"
   ]
  },
  {
   "cell_type": "code",
   "execution_count": 1525,
   "id": "7e37b079",
   "metadata": {},
   "outputs": [],
   "source": [
    "from sklearn.tree import DecisionTreeClassifier\n",
    "clf=DecisionTreeClassifier().fit(X_train,y_train)"
   ]
  },
  {
   "cell_type": "code",
   "execution_count": 1526,
   "id": "eb0902c5",
   "metadata": {},
   "outputs": [],
   "source": [
    "#print('Karar Ağaçları için eğitim seti performansı:{:.2f}'.format(clf.score(X_train,y_train)))\n",
    "#print('Karar Ağaçları test için seti performansı:{:.2f}'.format(clf.score(X_test,y_test)))"
   ]
  },
  {
   "cell_type": "code",
   "execution_count": 1527,
   "id": "e1f4ca6c",
   "metadata": {},
   "outputs": [],
   "source": [
    "#Kullanılan Makine öğrenmesi türlerinin hatalarına göre karşılaştırılması"
   ]
  },
  {
   "cell_type": "code",
   "execution_count": 1528,
   "id": "96bd50b3",
   "metadata": {},
   "outputs": [],
   "source": [
    "modelknn=knn_modeleniyi.fit(X_train,y_train)#Knn için öğrenme yaptık"
   ]
  },
  {
   "cell_type": "code",
   "execution_count": 1529,
   "id": "5aa20fee",
   "metadata": {},
   "outputs": [],
   "source": [
    "modelclf=clf.fit(X_train,y_train)#Karar Ağacı için öğrenme yaptık"
   ]
  },
  {
   "cell_type": "code",
   "execution_count": 1530,
   "id": "da7e7806",
   "metadata": {},
   "outputs": [],
   "source": [
    "y_predknn=modelknn.predict(X_test)"
   ]
  },
  {
   "cell_type": "code",
   "execution_count": 1531,
   "id": "d32c1483",
   "metadata": {},
   "outputs": [],
   "source": [
    "y_predclf=modelclf.predict(X_test)"
   ]
  },
  {
   "cell_type": "code",
   "execution_count": 1532,
   "id": "452f1315",
   "metadata": {},
   "outputs": [
    {
     "data": {
      "text/plain": [
       "17.29730229448126"
      ]
     },
     "execution_count": 1532,
     "metadata": {},
     "output_type": "execute_result"
    }
   ],
   "source": [
    "np.sqrt(mean_squared_error(y_test,y_predclf)) #KararAğacının test hatasını öğrenme"
   ]
  },
  {
   "cell_type": "code",
   "execution_count": 1533,
   "id": "3082b6ab",
   "metadata": {},
   "outputs": [
    {
     "data": {
      "text/plain": [
       "13.99493743752723"
      ]
     },
     "execution_count": 1533,
     "metadata": {},
     "output_type": "execute_result"
    }
   ],
   "source": [
    "np.sqrt(mean_squared_error(y_test,y_predknn)) #En yakın komşu test hatası"
   ]
  },
  {
   "cell_type": "code",
   "execution_count": 1534,
   "id": "803a564d",
   "metadata": {},
   "outputs": [
    {
     "data": {
      "text/plain": [
       "16.60419123795756"
      ]
     },
     "execution_count": 1534,
     "metadata": {},
     "output_type": "execute_result"
    }
   ],
   "source": [
    "np.sqrt(mean_squared_error(y_train,modelclf.predict(X_train)))#KararAğacının öğrenme hatasını öğrenme"
   ]
  },
  {
   "cell_type": "code",
   "execution_count": 1535,
   "id": "45db3735",
   "metadata": {},
   "outputs": [
    {
     "data": {
      "text/plain": [
       "12.761471780696478"
      ]
     },
     "execution_count": 1535,
     "metadata": {},
     "output_type": "execute_result"
    }
   ],
   "source": [
    "np.sqrt(mean_squared_error(y_train,modelknn.predict(X_train))) #En yakın komşu öğrenme hatasını öğrenme"
   ]
  },
  {
   "cell_type": "code",
   "execution_count": 1536,
   "id": "0d66bfad",
   "metadata": {},
   "outputs": [],
   "source": [
    "#Buradan En yakın komşu makine öğrenmesinin daha az hatalı olduğunu görüyoruz karar ağaçlarına göre"
   ]
  },
  {
   "cell_type": "code",
   "execution_count": 1537,
   "id": "fa2d3217",
   "metadata": {},
   "outputs": [],
   "source": [
    "#Okumanın yazma ve Matematik üzerinde etkisi"
   ]
  },
  {
   "cell_type": "code",
   "execution_count": 1538,
   "id": "b25534f2",
   "metadata": {},
   "outputs": [
    {
     "data": {
      "text/plain": [
       "<AxesSubplot:xlabel='Okuma', ylabel='Matematik'>"
      ]
     },
     "execution_count": 1538,
     "metadata": {},
     "output_type": "execute_result"
    },
    {
     "data": {
      "image/png": "[encoded data removed]",
      "text/plain": [
       "<Figure size 432x288 with 1 Axes>"
      ]
     },
     "metadata": {
      "needs_background": "light"
     },
     "output_type": "display_data"
    }
   ],
   "source": [
    "%matplotlib inline\n",
    "df.plot(x=\"Okuma\",y=\"Matematik\",kind=\"scatter\")"
   ]
  },
  {
   "cell_type": "code",
   "execution_count": 1539,
   "id": "4f53e379",
   "metadata": {},
   "outputs": [
    {
     "data": {
      "text/plain": [
       "<AxesSubplot:xlabel='Okuma', ylabel='Yazma'>"
      ]
     },
     "execution_count": 1539,
     "metadata": {},
     "output_type": "execute_result"
    },
    {
     "data": {
      "image/png": "[encoded data removed]",
      "text/plain": [
       "<Figure size 432x288 with 1 Axes>"
      ]
     },
     "metadata": {
      "needs_background": "light"
     },
     "output_type": "display_data"
    }
   ],
   "source": [
    "%matplotlib inline\n",
    "df.plot(x=\"Okuma\",y=\"Yazma\",kind=\"scatter\")"
   ]
  },
  {
   "cell_type": "code",
   "execution_count": 1540,
   "id": "b2210a32",
   "metadata": {},
   "outputs": [
    {
     "data": {
      "text/plain": [
       "<AxesSubplot:xlabel='Matematik', ylabel='Ozel_Ders'>"
      ]
     },
     "execution_count": 1540,
     "metadata": {},
     "output_type": "execute_result"
    },
    {
     "data": {
      "image/png": "[encoded data removed]",
      "text/plain": [
       "<Figure size 432x288 with 1 Axes>"
      ]
     },
     "metadata": {
      "needs_background": "light"
     },
     "output_type": "display_data"
    }
   ],
   "source": [
    "%matplotlib inline\n",
    "df.plot(x=\"Matematik\",y=\"Ozel_Ders\",kind=\"scatter\")"
   ]
  },
  {
   "cell_type": "code",
   "execution_count": 1541,
   "id": "d207e03c",
   "metadata": {},
   "outputs": [
    {
     "data": {
      "text/plain": [
       "<AxesSubplot:xlabel='Ozel_Ders', ylabel='Okuma'>"
      ]
     },
     "execution_count": 1541,
     "metadata": {},
     "output_type": "execute_result"
    },
    {
     "data": {
      "image/png": "[encoded data removed]",
      "text/plain": [
       "<Figure size 432x288 with 1 Axes>"
      ]
     },
     "metadata": {
      "needs_background": "light"
     },
     "output_type": "display_data"
    }
   ],
   "source": [
    "%matplotlib inline\n",
    "df.plot(x=\"Ozel_Ders\",y=\"Okuma\",kind=\"scatter\")"
   ]
  },
  {
   "cell_type": "code",
   "execution_count": 1542,
   "id": "494ec1b8",
   "metadata": {},
   "outputs": [],
   "source": [
    "#Ozel Ders Almanın Başarıya etkisi -KNN"
   ]
  },
  {
   "cell_type": "code",
   "execution_count": 1543,
   "id": "52af3a9d",
   "metadata": {},
   "outputs": [],
   "source": [
    "modelll=knn_modeleniyi.fit(X_train,y_train)"
   ]
  },
  {
   "cell_type": "code",
   "execution_count": 1544,
   "id": "bb102dc3",
   "metadata": {},
   "outputs": [],
   "source": [
    "yeni_veriozelders=[[1],[3],[2],[1]]"
   ]
  },
  {
   "cell_type": "code",
   "execution_count": 1545,
   "id": "82256b32",
   "metadata": {},
   "outputs": [],
   "source": [
    "yeni_veriozelders=pd.DataFrame(yeni_veriozelders).T"
   ]
  },
  {
   "cell_type": "code",
   "execution_count": 1546,
   "id": "9603fdef",
   "metadata": {},
   "outputs": [
    {
     "data": {
      "text/plain": [
       "array([[76.17241379, 80.96551724, 83.06896552]])"
      ]
     },
     "execution_count": 1546,
     "metadata": {},
     "output_type": "execute_result"
    }
   ],
   "source": [
    "modelll.predict(yeni_veriozelders) "
   ]
  },
  {
   "cell_type": "code",
   "execution_count": 1547,
   "id": "15ec90c8",
   "metadata": {},
   "outputs": [],
   "source": [
    "yeni_veriozelderssiz=[[1],[3],[2],[0]]"
   ]
  },
  {
   "cell_type": "code",
   "execution_count": 1548,
   "id": "d587f4fb",
   "metadata": {},
   "outputs": [],
   "source": [
    "yeni_veriozelderssiz=pd.DataFrame(yeni_veriozelderssiz).T"
   ]
  },
  {
   "cell_type": "code",
   "execution_count": 1549,
   "id": "ce6e7554",
   "metadata": {},
   "outputs": [
    {
     "data": {
      "text/plain": [
       "array([[70.17241379, 76.13793103, 76.06896552]])"
      ]
     },
     "execution_count": 1549,
     "metadata": {},
     "output_type": "execute_result"
    }
   ],
   "source": [
    "modelll.predict(yeni_veriozelderssiz) "
   ]
  },
  {
   "cell_type": "code",
   "execution_count": 1550,
   "id": "cc60850e",
   "metadata": {},
   "outputs": [],
   "source": [
    "#Ozel Ders Almanın Başarıya etkisi -Karar Ağaçları"
   ]
  },
  {
   "cell_type": "code",
   "execution_count": 1551,
   "id": "ca7f64d3",
   "metadata": {},
   "outputs": [],
   "source": [
    "modelagac=clf.fit(X_train,y_train)"
   ]
  },
  {
   "cell_type": "code",
   "execution_count": 1552,
   "id": "9a992140",
   "metadata": {},
   "outputs": [],
   "source": [
    "yeni_veriozelders=[[1],[3],[2],[1]]"
   ]
  },
  {
   "cell_type": "code",
   "execution_count": 1553,
   "id": "051d97ee",
   "metadata": {},
   "outputs": [],
   "source": [
    "yeni_veriozelders=pd.DataFrame(yeni_veriozelders).T"
   ]
  },
  {
   "cell_type": "code",
   "execution_count": 1554,
   "id": "216a334f",
   "metadata": {},
   "outputs": [
    {
     "data": {
      "text/plain": [
       "array([[ 71, 100,  81]], dtype=int64)"
      ]
     },
     "execution_count": 1554,
     "metadata": {},
     "output_type": "execute_result"
    }
   ],
   "source": [
    "modelagac.predict(yeni_veriozelders)"
   ]
  },
  {
   "cell_type": "code",
   "execution_count": 1555,
   "id": "60746fec",
   "metadata": {},
   "outputs": [],
   "source": [
    "yeni_veriozelderssiz=[[1],[3],[2],[0]]"
   ]
  },
  {
   "cell_type": "code",
   "execution_count": 1556,
   "id": "d29750a9",
   "metadata": {},
   "outputs": [],
   "source": [
    "yeni_veriozelderssiz=pd.DataFrame(yeni_veriozelderssiz).T"
   ]
  },
  {
   "cell_type": "code",
   "execution_count": 1557,
   "id": "71673ed5",
   "metadata": {},
   "outputs": [
    {
     "data": {
      "text/plain": [
       "array([[65, 72, 74]], dtype=int64)"
      ]
     },
     "execution_count": 1557,
     "metadata": {},
     "output_type": "execute_result"
    }
   ],
   "source": [
    "modelclf.predict(yeni_veriozelderssiz) "
   ]
  },
  {
   "cell_type": "code",
   "execution_count": 1558,
   "id": "16f89609",
   "metadata": {},
   "outputs": [],
   "source": [
    "##Cinsiyetin Başarıya etkisi--KNN"
   ]
  },
  {
   "cell_type": "code",
   "execution_count": 1559,
   "id": "950ab7bf",
   "metadata": {},
   "outputs": [],
   "source": [
    "yeni_verikadın=[[1],[3],[2],[1]]"
   ]
  },
  {
   "cell_type": "code",
   "execution_count": 1560,
   "id": "85c9dab0",
   "metadata": {},
   "outputs": [],
   "source": [
    "yeni_verikadın=pd.DataFrame(yeni_verikadın).T"
   ]
  },
  {
   "cell_type": "code",
   "execution_count": 1561,
   "id": "64c9f6e6",
   "metadata": {},
   "outputs": [
    {
     "data": {
      "text/plain": [
       "array([[76.17241379, 80.96551724, 83.06896552]])"
      ]
     },
     "execution_count": 1561,
     "metadata": {},
     "output_type": "execute_result"
    }
   ],
   "source": [
    "modelll.predict(yeni_verikadın) "
   ]
  },
  {
   "cell_type": "code",
   "execution_count": 1562,
   "id": "7d372abd",
   "metadata": {},
   "outputs": [],
   "source": [
    "yeni_verierkek=[[0],[3],[2],[1]]"
   ]
  },
  {
   "cell_type": "code",
   "execution_count": 1563,
   "id": "3e6c2e53",
   "metadata": {},
   "outputs": [],
   "source": [
    "yeni_verierkek=pd.DataFrame(yeni_verierkek).T"
   ]
  },
  {
   "cell_type": "code",
   "execution_count": 1564,
   "id": "d7849b90",
   "metadata": {},
   "outputs": [
    {
     "data": {
      "text/plain": [
       "array([[75.93103448, 73.13793103, 74.27586207]])"
      ]
     },
     "execution_count": 1564,
     "metadata": {},
     "output_type": "execute_result"
    }
   ],
   "source": [
    "modelll.predict(yeni_verierkek) "
   ]
  },
  {
   "cell_type": "code",
   "execution_count": 1565,
   "id": "1266a5d7",
   "metadata": {},
   "outputs": [],
   "source": [
    "##Cinsiyetin Başarıya etkisi--Karar Ağaçları"
   ]
  },
  {
   "cell_type": "code",
   "execution_count": 1566,
   "id": "9a7feee5",
   "metadata": {},
   "outputs": [],
   "source": [
    "yeni_verikadın=[[1],[3],[2],[1]]"
   ]
  },
  {
   "cell_type": "code",
   "execution_count": 1567,
   "id": "5f133efe",
   "metadata": {},
   "outputs": [],
   "source": [
    "yeni_verikadın=pd.DataFrame(yeni_verikadın).T"
   ]
  },
  {
   "cell_type": "code",
   "execution_count": 1568,
   "id": "e0e603d5",
   "metadata": {},
   "outputs": [
    {
     "data": {
      "text/plain": [
       "array([[ 71, 100,  81]], dtype=int64)"
      ]
     },
     "execution_count": 1568,
     "metadata": {},
     "output_type": "execute_result"
    }
   ],
   "source": [
    "modelagac.predict(yeni_verikadın)"
   ]
  },
  {
   "cell_type": "code",
   "execution_count": 1569,
   "id": "f8896789",
   "metadata": {},
   "outputs": [],
   "source": [
    "yeni_verierkek=[[0],[3],[2],[1]]"
   ]
  },
  {
   "cell_type": "code",
   "execution_count": 1570,
   "id": "bed79910",
   "metadata": {},
   "outputs": [],
   "source": [
    "yeni_verierkek=pd.DataFrame(yeni_verierkek).T"
   ]
  },
  {
   "cell_type": "code",
   "execution_count": 1571,
   "id": "6fc40521",
   "metadata": {},
   "outputs": [
    {
     "data": {
      "text/plain": [
       "array([[63, 64, 66]], dtype=int64)"
      ]
     },
     "execution_count": 1571,
     "metadata": {},
     "output_type": "execute_result"
    }
   ],
   "source": [
    "modelagac.predict(yeni_verierkek)"
   ]
  },
  {
   "cell_type": "code",
   "execution_count": 1572,
   "id": "64ec2d48",
   "metadata": {},
   "outputs": [],
   "source": [
    "#okul yemekhaesinin Başarıya etkisi-KNN"
   ]
  },
  {
   "cell_type": "code",
   "execution_count": 1573,
   "id": "8a978f2e",
   "metadata": {},
   "outputs": [],
   "source": [
    "yeni_veriyemekvar=[[1],[3],[1],[1]]"
   ]
  },
  {
   "cell_type": "code",
   "execution_count": 1574,
   "id": "3dc6c1b7",
   "metadata": {},
   "outputs": [],
   "source": [
    "yeni_veriyemekvar=pd.DataFrame(yeni_veriyemekvar).T"
   ]
  },
  {
   "cell_type": "code",
   "execution_count": 1575,
   "id": "aee9fcee",
   "metadata": {},
   "outputs": [
    {
     "data": {
      "text/plain": [
       "array([[70.31034483, 79.06896552, 79.82758621]])"
      ]
     },
     "execution_count": 1575,
     "metadata": {},
     "output_type": "execute_result"
    }
   ],
   "source": [
    "modelll.predict(yeni_veriyemekvar) "
   ]
  },
  {
   "cell_type": "code",
   "execution_count": 1576,
   "id": "d6276d3e",
   "metadata": {},
   "outputs": [],
   "source": [
    "yeni_veriyemekyok=[[1],[3],[2],[1]]"
   ]
  },
  {
   "cell_type": "code",
   "execution_count": 1577,
   "id": "b0bef4ea",
   "metadata": {},
   "outputs": [],
   "source": [
    "yeni_veriyemekyok=pd.DataFrame(yeni_veriyemekyok).T"
   ]
  },
  {
   "cell_type": "code",
   "execution_count": 1578,
   "id": "61398ddd",
   "metadata": {},
   "outputs": [
    {
     "data": {
      "text/plain": [
       "array([[76.17241379, 80.96551724, 83.06896552]])"
      ]
     },
     "execution_count": 1578,
     "metadata": {},
     "output_type": "execute_result"
    }
   ],
   "source": [
    "modelll.predict(yeni_veriyemekyok) "
   ]
  },
  {
   "cell_type": "code",
   "execution_count": 1579,
   "id": "7595dd8d",
   "metadata": {},
   "outputs": [],
   "source": [
    "#okul yemekhaesinin Başarıya etkisi-Karar Ağaçları"
   ]
  },
  {
   "cell_type": "code",
   "execution_count": 1580,
   "id": "e175788e",
   "metadata": {},
   "outputs": [],
   "source": [
    "yeni_veriyemekvar=[[1],[3],[1],[1]]"
   ]
  },
  {
   "cell_type": "code",
   "execution_count": 1581,
   "id": "ce621ab9",
   "metadata": {},
   "outputs": [],
   "source": [
    "yeni_veriyemekvar=pd.DataFrame(yeni_veriyemekvar).T"
   ]
  },
  {
   "cell_type": "code",
   "execution_count": 1582,
   "id": "e5b62568",
   "metadata": {},
   "outputs": [
    {
     "data": {
      "text/plain": [
       "array([[ 47, 100, 100]], dtype=int64)"
      ]
     },
     "execution_count": 1582,
     "metadata": {},
     "output_type": "execute_result"
    }
   ],
   "source": [
    "modelagac.predict(yeni_veriyemekvar) "
   ]
  },
  {
   "cell_type": "code",
   "execution_count": 1583,
   "id": "beadf616",
   "metadata": {},
   "outputs": [],
   "source": [
    "yeni_veriyemekyok=[[1],[3],[2],[1]]"
   ]
  },
  {
   "cell_type": "code",
   "execution_count": 1584,
   "id": "e0d0ee70",
   "metadata": {},
   "outputs": [],
   "source": [
    "yeni_veriyemekyok=pd.DataFrame(yeni_veriyemekyok).T"
   ]
  },
  {
   "cell_type": "code",
   "execution_count": 1585,
   "id": "8d1fa9e8",
   "metadata": {},
   "outputs": [
    {
     "data": {
      "text/plain": [
       "array([[ 71, 100,  81]], dtype=int64)"
      ]
     },
     "execution_count": 1585,
     "metadata": {},
     "output_type": "execute_result"
    }
   ],
   "source": [
    "modelagac.predict(yeni_veriyemekyok) "
   ]
  },
  {
   "cell_type": "code",
   "execution_count": 1586,
   "id": "44086518",
   "metadata": {},
   "outputs": [],
   "source": [
    "#Ebeveyn Eğitim Seviyesinin başarıya etkisi-KNN"
   ]
  },
  {
   "cell_type": "code",
   "execution_count": 1587,
   "id": "e79d7c73",
   "metadata": {},
   "outputs": [],
   "source": [
    "yeni_veriegitimyuksek=[[1],[4],[2],[1]]"
   ]
  },
  {
   "cell_type": "code",
   "execution_count": 1588,
   "id": "0bcbfdc2",
   "metadata": {},
   "outputs": [],
   "source": [
    "yeni_veriegitimyuksek=pd.DataFrame(yeni_veriegitimyuksek).T"
   ]
  },
  {
   "cell_type": "code",
   "execution_count": 1589,
   "id": "51076e3f",
   "metadata": {},
   "outputs": [
    {
     "data": {
      "text/plain": [
       "array([[69.34482759, 78.20689655, 80.20689655]])"
      ]
     },
     "execution_count": 1589,
     "metadata": {},
     "output_type": "execute_result"
    }
   ],
   "source": [
    "modelll.predict(yeni_veriegitimyuksek) "
   ]
  },
  {
   "cell_type": "code",
   "execution_count": 1590,
   "id": "81a57576",
   "metadata": {},
   "outputs": [],
   "source": [
    "yeni_veriegitimdusuk=[[1],[1],[2],[1]]"
   ]
  },
  {
   "cell_type": "code",
   "execution_count": 1591,
   "id": "0908ed2c",
   "metadata": {},
   "outputs": [],
   "source": [
    "yeni_veriegitimdusuk=pd.DataFrame(yeni_veriegitimdusuk).T"
   ]
  },
  {
   "cell_type": "code",
   "execution_count": 1592,
   "id": "d8a310b5",
   "metadata": {},
   "outputs": [
    {
     "data": {
      "text/plain": [
       "array([[69.5862069 , 76.13793103, 76.89655172]])"
      ]
     },
     "execution_count": 1592,
     "metadata": {},
     "output_type": "execute_result"
    }
   ],
   "source": [
    "modelll.predict(yeni_veriegitimdusuk) "
   ]
  },
  {
   "cell_type": "code",
   "execution_count": 1593,
   "id": "d0b36e43",
   "metadata": {},
   "outputs": [],
   "source": [
    "#Ebeveyn Eğitim Seviyesinin başarıya etkisi-Karar Ağaçları"
   ]
  },
  {
   "cell_type": "code",
   "execution_count": 1594,
   "id": "376a01e5",
   "metadata": {},
   "outputs": [],
   "source": [
    "yeni_veriegitimyuksek=[[1],[4],[2],[1]]"
   ]
  },
  {
   "cell_type": "code",
   "execution_count": 1595,
   "id": "4fab2862",
   "metadata": {},
   "outputs": [],
   "source": [
    "yeni_veriegitimyuksek=pd.DataFrame(yeni_veriegitimyuksek).T"
   ]
  },
  {
   "cell_type": "code",
   "execution_count": 1596,
   "id": "8fb15154",
   "metadata": {},
   "outputs": [
    {
     "data": {
      "text/plain": [
       "array([[54, 64, 67]], dtype=int64)"
      ]
     },
     "execution_count": 1596,
     "metadata": {},
     "output_type": "execute_result"
    }
   ],
   "source": [
    "modelagac.predict(yeni_veriegitimyuksek) "
   ]
  },
  {
   "cell_type": "code",
   "execution_count": 1597,
   "id": "d9651a97",
   "metadata": {},
   "outputs": [],
   "source": [
    "yeni_veriegitimdusuk=[[1],[1],[2],[1]]"
   ]
  },
  {
   "cell_type": "code",
   "execution_count": 1598,
   "id": "27965636",
   "metadata": {},
   "outputs": [],
   "source": [
    "yeni_veriegitimdusuk=pd.DataFrame(yeni_veriegitimdusuk).T"
   ]
  },
  {
   "cell_type": "code",
   "execution_count": 1599,
   "id": "67afb1aa",
   "metadata": {},
   "outputs": [
    {
     "data": {
      "text/plain": [
       "array([[59, 51, 74]], dtype=int64)"
      ]
     },
     "execution_count": 1599,
     "metadata": {},
     "output_type": "execute_result"
    }
   ],
   "source": [
    "modelagac.predict(yeni_veriegitimdusuk) "
   ]
  },
  {
   "cell_type": "code",
   "execution_count": 1600,
   "id": "a870a2cd",
   "metadata": {},
   "outputs": [],
   "source": [
    "#Modellerimize baktığımızda başarıyı en çok etkileyen faktorun Ebeveyn eğitim seviyesine bağlı olduğunu görüyoruz."
   ]
  },
  {
   "cell_type": "code",
   "execution_count": 1601,
   "id": "03eeaae3",
   "metadata": {},
   "outputs": [
    {
     "name": "stdout",
     "output_type": "stream",
     "text": [
      "Öznitelik önemleri[0.08502073 0.56791094 0.29871507 0.04835326]\n"
     ]
    }
   ],
   "source": [
    "print(\"Öznitelik önemleri{}\".format(modelagac.feature_importances_)) #Hangi özellik başarıyı ne kadar etkiliyor!!"
   ]
  },
  {
   "cell_type": "code",
   "execution_count": 1602,
   "id": "1bf80d1f",
   "metadata": {},
   "outputs": [],
   "source": [
    "#okumanın genel başarı üzerindeki etkisi"
   ]
  },
  {
   "cell_type": "code",
   "execution_count": 1603,
   "id": "8154026c",
   "metadata": {},
   "outputs": [],
   "source": [
    "knn=KNeighborsRegressor(n_neighbors=29)"
   ]
  },
  {
   "cell_type": "code",
   "execution_count": 1604,
   "id": "8495fb51",
   "metadata": {},
   "outputs": [],
   "source": [
    "X=df.drop(['Matematik','Yazma','Cinsiyet','Ebeveyn_Egitim_Seviyesi','Okul_yemekhanesi','Ozel_Ders'] ,axis=1)# Axis 1 olduğu zaman sütunlarla çalıştığımız belirlenir.\n",
    "y=(df[['Matematik','Yazma']])\n"
   ]
  },
  {
   "cell_type": "code",
   "execution_count": 1605,
   "id": "f9267daa",
   "metadata": {},
   "outputs": [
    {
     "data": {
      "text/html": [
       "<style>#sk-container-id-56 {color: black;background-color: white;}#sk-container-id-56 pre{padding: 0;}#sk-container-id-56 div.sk-toggleable {background-color: white;}#sk-container-id-56 label.sk-toggleable__label {cursor: pointer;display: block;width: 100%;margin-bottom: 0;padding: 0.3em;box-sizing: border-box;text-align: center;}#sk-container-id-56 label.sk-toggleable__label-arrow:before {content: \"▸\";float: left;margin-right: 0.25em;color: #696969;}#sk-container-id-56 label.sk-toggleable__label-arrow:hover:before {color: black;}#sk-container-id-56 div.sk-estimator:hover label.sk-toggleable__label-arrow:before {color: black;}#sk-container-id-56 div.sk-toggleable__content {max-height: 0;max-width: 0;overflow: hidden;text-align: left;background-color: #f0f8ff;}#sk-container-id-56 div.sk-toggleable__content pre {margin: 0.2em;color: black;border-radius: 0.25em;background-color: #f0f8ff;}#sk-container-id-56 input.sk-toggleable__control:checked~div.sk-toggleable__content {max-height: 200px;max-width: 100%;overflow: auto;}#sk-container-id-56 input.sk-toggleable__control:checked~label.sk-toggleable__label-arrow:before {content: \"▾\";}#sk-container-id-56 div.sk-estimator input.sk-toggleable__control:checked~label.sk-toggleable__label {background-color: #d4ebff;}#sk-container-id-56 div.sk-label input.sk-toggleable__control:checked~label.sk-toggleable__label {background-color: #d4ebff;}#sk-container-id-56 input.sk-hidden--visually {border: 0;clip: rect(1px 1px 1px 1px);clip: rect(1px, 1px, 1px, 1px);height: 1px;margin: -1px;overflow: hidden;padding: 0;position: absolute;width: 1px;}#sk-container-id-56 div.sk-estimator {font-family: monospace;background-color: #f0f8ff;border: 1px dotted black;border-radius: 0.25em;box-sizing: border-box;margin-bottom: 0.5em;}#sk-container-id-56 div.sk-estimator:hover {background-color: #d4ebff;}#sk-container-id-56 div.sk-parallel-item::after {content: \"\";width: 100%;border-bottom: 1px solid gray;flex-grow: 1;}#sk-container-id-56 div.sk-label:hover label.sk-toggleable__label {background-color: #d4ebff;}#sk-container-id-56 div.sk-serial::before {content: \"\";position: absolute;border-left: 1px solid gray;box-sizing: border-box;top: 0;bottom: 0;left: 50%;z-index: 0;}#sk-container-id-56 div.sk-serial {display: flex;flex-direction: column;align-items: center;background-color: white;padding-right: 0.2em;padding-left: 0.2em;position: relative;}#sk-container-id-56 div.sk-item {position: relative;z-index: 1;}#sk-container-id-56 div.sk-parallel {display: flex;align-items: stretch;justify-content: center;background-color: white;position: relative;}#sk-container-id-56 div.sk-item::before, #sk-container-id-56 div.sk-parallel-item::before {content: \"\";position: absolute;border-left: 1px solid gray;box-sizing: border-box;top: 0;bottom: 0;left: 50%;z-index: -1;}#sk-container-id-56 div.sk-parallel-item {display: flex;flex-direction: column;z-index: 1;position: relative;background-color: white;}#sk-container-id-56 div.sk-parallel-item:first-child::after {align-self: flex-end;width: 50%;}#sk-container-id-56 div.sk-parallel-item:last-child::after {align-self: flex-start;width: 50%;}#sk-container-id-56 div.sk-parallel-item:only-child::after {width: 0;}#sk-container-id-56 div.sk-dashed-wrapped {border: 1px dashed gray;margin: 0 0.4em 0.5em 0.4em;box-sizing: border-box;padding-bottom: 0.4em;background-color: white;}#sk-container-id-56 div.sk-label label {font-family: monospace;font-weight: bold;display: inline-block;line-height: 1.2em;}#sk-container-id-56 div.sk-label-container {text-align: center;}#sk-container-id-56 div.sk-container {/* jupyter's `normalize.less` sets `[hidden] { display: none; }` but bootstrap.min.css set `[hidden] { display: none !important; }` so we also need the `!important` here to be able to override the default hidden behavior on the sphinx rendered scikit-learn.org. See: https://github.com/scikit-learn/scikit-learn/issues/21755 */display: inline-block !important;position: relative;}#sk-container-id-56 div.sk-text-repr-fallback {display: none;}</style><div id=\"sk-container-id-56\" class=\"sk-top-container\"><div class=\"sk-text-repr-fallback\"><pre>KNeighborsRegressor(n_neighbors=29)</pre><b>In a Jupyter environment, please rerun this cell to show the HTML representation or trust the notebook. <br />On GitHub, the HTML representation is unable to render, please try loading this page with nbviewer.org.</b></div><div class=\"sk-container\" hidden><div class=\"sk-item\"><div class=\"sk-estimator sk-toggleable\"><input class=\"sk-toggleable__control sk-hidden--visually\" id=\"sk-estimator-id-72\" type=\"checkbox\" checked><label for=\"sk-estimator-id-72\" class=\"sk-toggleable__label sk-toggleable__label-arrow\">KNeighborsRegressor</label><div class=\"sk-toggleable__content\"><pre>KNeighborsRegressor(n_neighbors=29)</pre></div></div></div></div></div>"
      ],
      "text/plain": [
       "KNeighborsRegressor(n_neighbors=29)"
      ]
     },
     "execution_count": 1605,
     "metadata": {},
     "output_type": "execute_result"
    }
   ],
   "source": [
    "knn.fit(X_train,y_train)#Modelimize eğitim verilerimizi gönderip eğittik"
   ]
  },
  {
   "cell_type": "code",
   "execution_count": 1606,
   "id": "c06ed397",
   "metadata": {},
   "outputs": [],
   "source": [
    "X_train,X_test,y_train,y_test=train_test_split(X,y,test_size=0.20,random_state=42)"
   ]
  },
  {
   "cell_type": "code",
   "execution_count": 1607,
   "id": "b57ea015",
   "metadata": {},
   "outputs": [],
   "source": [
    "modell=knn.fit(X_train,y_train)"
   ]
  },
  {
   "cell_type": "code",
   "execution_count": 1608,
   "id": "18555ed8",
   "metadata": {},
   "outputs": [],
   "source": [
    "yeni=[[99]]"
   ]
  },
  {
   "cell_type": "code",
   "execution_count": 1609,
   "id": "ddd0f079",
   "metadata": {},
   "outputs": [],
   "source": [
    "yeni=pd.DataFrame(yeni).T"
   ]
  },
  {
   "cell_type": "code",
   "execution_count": 1610,
   "id": "71fadf8e",
   "metadata": {},
   "outputs": [
    {
     "data": {
      "text/plain": [
       "array([[92.79310345, 97.        ]])"
      ]
     },
     "execution_count": 1610,
     "metadata": {},
     "output_type": "execute_result"
    }
   ],
   "source": [
    "modell.predict(yeni) "
   ]
  },
  {
   "cell_type": "code",
   "execution_count": 1611,
   "id": "8858f2f7",
   "metadata": {},
   "outputs": [],
   "source": [
    "yeni2=pd.DataFrame(yeni).T"
   ]
  },
  {
   "cell_type": "code",
   "execution_count": 1612,
   "id": "1f67cb14",
   "metadata": {},
   "outputs": [],
   "source": [
    "yeni2=[[17]]"
   ]
  },
  {
   "cell_type": "code",
   "execution_count": 1613,
   "id": "c3f7ee30",
   "metadata": {},
   "outputs": [
    {
     "data": {
      "text/plain": [
       "array([[37.37931034, 35.62068966]])"
      ]
     },
     "execution_count": 1613,
     "metadata": {},
     "output_type": "execute_result"
    }
   ],
   "source": [
    "modell.predict(yeni2) "
   ]
  },
  {
   "cell_type": "code",
   "execution_count": 1614,
   "id": "0dc7f6b6",
   "metadata": {},
   "outputs": [],
   "source": [
    "#Buradan Okumanın genel başarıya etkisini görüyoruz.Okuma yüksekse başarı oranı artıyor"
   ]
  }
 ],
 "metadata": {
  "kernelspec": {
   "display_name": "Python 3 (ipykernel)",
   "language": "python",
   "name": "python3"
  },
  "language_info": {
   "codemirror_mode": {
    "name": "ipython",
    "version": 3
   },
   "file_extension": ".py",
   "mimetype": "text/x-python",
   "name": "python",
   "nbconvert_exporter": "python",
   "pygments_lexer": "ipython3",
   "version": "3.10.4"
  }
 },
 "nbformat": 4,
 "nbformat_minor": 5
}
